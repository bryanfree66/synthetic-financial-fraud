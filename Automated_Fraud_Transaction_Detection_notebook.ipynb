{
 "cells": [
  {
   "cell_type": "markdown",
   "metadata": {
    "id": "dJ826VbQ3jrb"
   },
   "source": [
    "\n",
    "    \n",
    "## Overview\n",
    "\n",
    "This managed-instance notebook provides a tutorial on building, deploying and analyzing predictions from a simple [Random-Forest](https://en.wikipedia.org/wiki/Random_forest) model using tools like like Sklearn, Vertex-AI and What-IF Tool ([WIT](https://cloud.google.com/ai-platform/prediction/docs/using-what-if-tool)) on a Synthetic Fraud Transcation dataset to solve a financial fraud detection problem. \n",
    "\n",
    "\n",
    "## Dataset\n",
    "\n",
    "The dataset used in this tutorial is publicly availabe as the following Kaggle dataset. Further details about the dataset can be found at the corresponding page. \n",
    "- [Synthetic Financial Datasets For Fraud Detection](https://www.kaggle.com/ealaxi/paysim1)\n",
    "\n",
    "\n",
    "## Objective\n",
    "\n",
    "This tutorial demonstrates data-analysis and model building on a synthetic financial dataset. The model will be trained on identifying fraudulent cases among the transactions. Further, the trained model is deployed on Vertex-AI Endpoints and analyzed using What-If Tool. In detail, the steps taken in this tutorial are as follows : \n",
    "\n",
    "- Installation of required libraries\n",
    "- Reading the dataset from Cloud-storage bucket\n",
    "- Performing Exploratory Analysis on the dataset\n",
    "- Preprocessing the dataset\n",
    "- Training a Random-Forest model using sklearn\n",
    "- Saving the model to a Cloud-storage bucket\n",
    "- Creating a Vertex-AI model resource\n",
    "\n",
    "## Costs\n",
    "\n",
    "This tutorial uses billable components of Google Cloud:\n",
    "\n",
    "* Vertex AI\n",
    "* Cloud Storage\n",
    "\n",
    "Learn about [Vertex AI\n",
    "pricing](https://cloud.google.com/vertex-ai/pricing) and [Cloud Storage\n",
    "pricing](https://cloud.google.com/storage/pricing), and use the [Pricing\n",
    "Calculator](https://cloud.google.com/products/calculator/)\n",
    "to generate a cost estimate based on your projected usage. "
   ]
  },
  {
   "cell_type": "markdown",
   "metadata": {
    "id": "srvKeS-h3jrj"
   },
   "source": [
    "## Installation"
   ]
  },
  {
   "cell_type": "code",
   "execution_count": 1,
   "metadata": {
    "id": "_58T-VMx3jrj",
    "tags": []
   },
   "outputs": [],
   "source": [
    "import os\n",
    "\n",
    "# The Google Cloud Notebook product has specific requirements\n",
    "IS_GOOGLE_CLOUD_NOTEBOOK = os.path.exists(\"/opt/deeplearning/metadata/env_version\")\n",
    "\n",
    "USER_FLAG = \"\"\n",
    "# Google Cloud Notebook requires dependencies to be installed with '--user'\n",
    "if IS_GOOGLE_CLOUD_NOTEBOOK:\n",
    "    USER_FLAG = \"--user\""
   ]
  },
  {
   "cell_type": "markdown",
   "metadata": {
    "id": "t0eOIrS13jrm"
   },
   "source": [
    "Install the latest version of the Vertex AI client library.\n",
    "\n",
    "Run the following command in your virtual environment to install the Vertex SDK for Python:"
   ]
  },
  {
   "cell_type": "code",
   "execution_count": null,
   "metadata": {
    "id": "XIK34Z_S3jrn",
    "tags": []
   },
   "outputs": [],
   "source": [
    "! pip install {USER_FLAG} --upgrade google-cloud-aiplatform"
   ]
  },
  {
   "cell_type": "markdown",
   "metadata": {
    "id": "rJDh307T3jro"
   },
   "source": [
    "### Providing the Cloud Storage bucket name\n",
    "\n",
    "**The following steps are required, regardless of your notebook environment.**\n",
    "\n",
    "\n",
    "When you create a model in Vertex-AI using the Cloud SDK, you give a Cloud Storage path where the trained model is saved. \n",
    "In this tutorial, Vertex AI saves the trained model to a GCS bucket. Using this model artifact, you can then\n",
    "create Vertex AI model and endpoint resources in order to serve\n",
    "online predictions.\n",
    "\n",
    "Following code sets the name of your Cloud Storage bucket according to bucket created by \"Deploy Demo\". Bucket name will be unique across all\n",
    "Cloud Storage buckets.\n",
    "\n",
    "You may also change the `REGION` variable, which is used for operations\n",
    "throughout the rest of this notebook. Make sure to [choose a region where Vertex AI services are\n",
    "available](https://cloud.google.com/vertex-ai/docs/general/locations#available_regions). You may\n",
    "not use a Multi-Regional Storage bucket for training with Vertex AI."
   ]
  },
  {
   "cell_type": "code",
   "execution_count": 3,
   "metadata": {
    "id": "eq0MHnmk3jrp",
    "tags": []
   },
   "outputs": [],
   "source": [
    "Project_ID = !(gcloud config get-value core/project)\n",
    "Project_ID = Project_ID[0]\n",
    "BUCKET_NAME = Project_ID \n",
    "REGION = \"us-central1\""
   ]
  },
  {
   "cell_type": "markdown",
   "metadata": {
    "id": "TYUfaLvd3jrq"
   },
   "source": [
    "Finally, validate access to your Cloud Storage bucket by examining its contents:"
   ]
  },
  {
   "cell_type": "markdown",
   "metadata": {
    "id": "Nc7uEjJk3jrr"
   },
   "source": [
    "### Loaded dataset into your Cloud Storage bucket by \"Deploy Demo\"\n",
    "\n",
    "<b>synthetic-fraud.csv</b> file of \"[Synthetic Financial Datasets for Fraud detection](https://www.kaggle.com/ealaxi/paysim1)\" from Kaggle competition page is loaded to the created bucket."
   ]
  },
  {
   "cell_type": "markdown",
   "metadata": {
    "id": "STN-Vi0B3jrr"
   },
   "source": [
    "## Tutorial"
   ]
  },
  {
   "cell_type": "markdown",
   "metadata": {
    "id": "BJpj8TfX3jrs"
   },
   "source": [
    "### Import required libraries"
   ]
  },
  {
   "cell_type": "code",
   "execution_count": 7,
   "metadata": {
    "id": "JSAoKrLB3jrs",
    "tags": []
   },
   "outputs": [],
   "source": [
    "import pandas as pd\n",
    "import numpy as np\n",
    "from sklearn.model_selection import train_test_split\n",
    "from sklearn.metrics import average_precision_score, f1_score, confusion_matrix, accuracy_score, classification_report\n",
    "import seaborn as sns\n",
    "import matplotlib.pyplot as plt\n",
    "from sklearn.ensemble import RandomForestClassifier\n",
    "import pickle \n",
    "from google.cloud import storage\n",
    "from google.cloud import aiplatform as vertex_ai\n",
    "from datetime import datetime\n",
    "\n",
    "import warnings\n",
    "warnings.filterwarnings(\"ignore\")"
   ]
  },
  {
   "cell_type": "code",
   "execution_count": 10,
   "metadata": {
    "id": "Vnu902FA3jrs",
    "tags": []
   },
   "outputs": [],
   "source": [
    "BUCKET_NAME=\"bq-experiments-datasets/fraud\"\n",
    "FILE_PATH = \"gs://\"+BUCKET_NAME +\"/synthetic-fraud.csv\"\n",
    "df = pd.read_csv(FILE_PATH)"
   ]
  },
  {
   "cell_type": "markdown",
   "metadata": {
    "id": "eh5cMVN13jrt"
   },
   "source": [
    "## Analyze the dataset"
   ]
  },
  {
   "cell_type": "markdown",
   "metadata": {
    "id": "4JtyMh8M3jrt"
   },
   "source": [
    "Take a quick look at the dataset and the number of rows."
   ]
  },
  {
   "cell_type": "code",
   "execution_count": 11,
   "metadata": {
    "id": "KnJH8zB53jru",
    "outputId": "9d7a133a-0f95-45c6-bd6d-0190ebe74d85",
    "tags": []
   },
   "outputs": [
    {
     "name": "stdout",
     "output_type": "stream",
     "text": [
      "shape :  (6362620, 11)\n"
     ]
    },
    {
     "data": {
      "text/html": [
       "<div>\n",
       "<style scoped>\n",
       "    .dataframe tbody tr th:only-of-type {\n",
       "        vertical-align: middle;\n",
       "    }\n",
       "\n",
       "    .dataframe tbody tr th {\n",
       "        vertical-align: top;\n",
       "    }\n",
       "\n",
       "    .dataframe thead th {\n",
       "        text-align: right;\n",
       "    }\n",
       "</style>\n",
       "<table border=\"1\" class=\"dataframe\">\n",
       "  <thead>\n",
       "    <tr style=\"text-align: right;\">\n",
       "      <th></th>\n",
       "      <th>step</th>\n",
       "      <th>type</th>\n",
       "      <th>amount</th>\n",
       "      <th>nameOrig</th>\n",
       "      <th>oldbalanceOrg</th>\n",
       "      <th>newbalanceOrig</th>\n",
       "      <th>nameDest</th>\n",
       "      <th>oldbalanceDest</th>\n",
       "      <th>newbalanceDest</th>\n",
       "      <th>isFraud</th>\n",
       "      <th>isFlaggedFraud</th>\n",
       "    </tr>\n",
       "  </thead>\n",
       "  <tbody>\n",
       "    <tr>\n",
       "      <th>0</th>\n",
       "      <td>1</td>\n",
       "      <td>PAYMENT</td>\n",
       "      <td>9839.64</td>\n",
       "      <td>C1231006815</td>\n",
       "      <td>170136.0</td>\n",
       "      <td>160296.36</td>\n",
       "      <td>M1979787155</td>\n",
       "      <td>0.0</td>\n",
       "      <td>0.0</td>\n",
       "      <td>0</td>\n",
       "      <td>0</td>\n",
       "    </tr>\n",
       "    <tr>\n",
       "      <th>1</th>\n",
       "      <td>1</td>\n",
       "      <td>PAYMENT</td>\n",
       "      <td>1864.28</td>\n",
       "      <td>C1666544295</td>\n",
       "      <td>21249.0</td>\n",
       "      <td>19384.72</td>\n",
       "      <td>M2044282225</td>\n",
       "      <td>0.0</td>\n",
       "      <td>0.0</td>\n",
       "      <td>0</td>\n",
       "      <td>0</td>\n",
       "    </tr>\n",
       "    <tr>\n",
       "      <th>2</th>\n",
       "      <td>1</td>\n",
       "      <td>TRANSFER</td>\n",
       "      <td>181.00</td>\n",
       "      <td>C1305486145</td>\n",
       "      <td>181.0</td>\n",
       "      <td>0.00</td>\n",
       "      <td>C553264065</td>\n",
       "      <td>0.0</td>\n",
       "      <td>0.0</td>\n",
       "      <td>1</td>\n",
       "      <td>0</td>\n",
       "    </tr>\n",
       "    <tr>\n",
       "      <th>3</th>\n",
       "      <td>1</td>\n",
       "      <td>CASH_OUT</td>\n",
       "      <td>181.00</td>\n",
       "      <td>C840083671</td>\n",
       "      <td>181.0</td>\n",
       "      <td>0.00</td>\n",
       "      <td>C38997010</td>\n",
       "      <td>21182.0</td>\n",
       "      <td>0.0</td>\n",
       "      <td>1</td>\n",
       "      <td>0</td>\n",
       "    </tr>\n",
       "    <tr>\n",
       "      <th>4</th>\n",
       "      <td>1</td>\n",
       "      <td>PAYMENT</td>\n",
       "      <td>11668.14</td>\n",
       "      <td>C2048537720</td>\n",
       "      <td>41554.0</td>\n",
       "      <td>29885.86</td>\n",
       "      <td>M1230701703</td>\n",
       "      <td>0.0</td>\n",
       "      <td>0.0</td>\n",
       "      <td>0</td>\n",
       "      <td>0</td>\n",
       "    </tr>\n",
       "  </tbody>\n",
       "</table>\n",
       "</div>"
      ],
      "text/plain": [
       "   step      type    amount     nameOrig  oldbalanceOrg  newbalanceOrig  \\\n",
       "0     1   PAYMENT   9839.64  C1231006815       170136.0       160296.36   \n",
       "1     1   PAYMENT   1864.28  C1666544295        21249.0        19384.72   \n",
       "2     1  TRANSFER    181.00  C1305486145          181.0            0.00   \n",
       "3     1  CASH_OUT    181.00   C840083671          181.0            0.00   \n",
       "4     1   PAYMENT  11668.14  C2048537720        41554.0        29885.86   \n",
       "\n",
       "      nameDest  oldbalanceDest  newbalanceDest  isFraud  isFlaggedFraud  \n",
       "0  M1979787155             0.0             0.0        0               0  \n",
       "1  M2044282225             0.0             0.0        0               0  \n",
       "2   C553264065             0.0             0.0        1               0  \n",
       "3    C38997010         21182.0             0.0        1               0  \n",
       "4  M1230701703             0.0             0.0        0               0  "
      ]
     },
     "execution_count": 11,
     "metadata": {},
     "output_type": "execute_result"
    }
   ],
   "source": [
    "print (\"shape : \",df.shape)\n",
    "df.head()"
   ]
  },
  {
   "cell_type": "markdown",
   "metadata": {
    "id": "IG2H1dBa3jrv"
   },
   "source": [
    "Check for null values"
   ]
  },
  {
   "cell_type": "code",
   "execution_count": 12,
   "metadata": {
    "id": "FUySGbbe3jrw",
    "outputId": "0a904b93-4c04-4f2d-e676-8f9b62ac4064",
    "tags": []
   },
   "outputs": [
    {
     "data": {
      "text/plain": [
       "step              0\n",
       "type              0\n",
       "amount            0\n",
       "nameOrig          0\n",
       "oldbalanceOrg     0\n",
       "newbalanceOrig    0\n",
       "nameDest          0\n",
       "oldbalanceDest    0\n",
       "newbalanceDest    0\n",
       "isFraud           0\n",
       "isFlaggedFraud    0\n",
       "dtype: int64"
      ]
     },
     "execution_count": 12,
     "metadata": {},
     "output_type": "execute_result"
    }
   ],
   "source": [
    "df.isnull().sum()"
   ]
  },
  {
   "cell_type": "markdown",
   "metadata": {
    "id": "kZPKPGr63jrw"
   },
   "source": [
    "Check the type of transactions involved"
   ]
  },
  {
   "cell_type": "code",
   "execution_count": 13,
   "metadata": {
    "id": "nM4gRD4-3jrw",
    "outputId": "84e0e9b3-f8d3-4c19-f649-205d1a4ae7c1",
    "tags": []
   },
   "outputs": [
    {
     "name": "stdout",
     "output_type": "stream",
     "text": [
      "CASH_OUT    2237500\n",
      "PAYMENT     2151495\n",
      "CASH_IN     1399284\n",
      "TRANSFER     532909\n",
      "DEBIT         41432\n",
      "Name: type, dtype: int64\n"
     ]
    },
    {
     "data": {
      "text/plain": [
       "Text(0, 0.5, 'Amount')"
      ]
     },
     "execution_count": 13,
     "metadata": {},
     "output_type": "execute_result"
    },
    {
     "data": {
      "image/png": "[encoded data removed]",
      "text/plain": [
       "<Figure size 432x288 with 1 Axes>"
      ]
     },
     "metadata": {
      "needs_background": "light"
     },
     "output_type": "display_data"
    }
   ],
   "source": [
    "print(df.type.value_counts())\n",
    "var = df.groupby('type').amount.sum()\n",
    "fig = plt.figure()\n",
    "ax1 = fig.add_subplot(1,1,1)\n",
    "var.plot(kind='bar')\n",
    "ax1.set_title(\"Total amount per transaction type\")\n",
    "ax1.set_xlabel('Type of Transaction')\n",
    "ax1.set_ylabel('Amount')"
   ]
  },
  {
   "cell_type": "markdown",
   "metadata": {
    "id": "ablJLxpF3jrx"
   },
   "source": [
    "## Working with imbalanced data\n",
    "\n",
    "Althuogh the outcome variable \"isFraud\" seems to be very imbalanced in the current dataset, a base model can be trained on it to check the quality of fraudulent transactions in the data and further if needed, counter measures like undersampling of majority class or oversampling of the minority class can be considered."
   ]
  },
  {
   "cell_type": "code",
   "execution_count": 14,
   "metadata": {
    "id": "U05QrnXM3jrx",
    "outputId": "957c70c4-c87f-42f3-dc48-8d71df7166fe",
    "tags": []
   },
   "outputs": [
    {
     "data": {
      "text/plain": [
       "0    6354407\n",
       "1       8213\n",
       "Name: isFraud, dtype: int64"
      ]
     },
     "execution_count": 14,
     "metadata": {},
     "output_type": "execute_result"
    }
   ],
   "source": [
    "# Count number of fraudulent/non-fraudulent transactions\n",
    "df.isFraud.value_counts() "
   ]
  },
  {
   "cell_type": "code",
   "execution_count": 15,
   "metadata": {
    "id": "zLWurgoK3jrx",
    "outputId": "e17b67fe-ff3a-4537-99c0-a8ede37d88de",
    "tags": []
   },
   "outputs": [
    {
     "data": {
      "image/png": "[encoded data removed]",
      "text/plain": [
       "<Figure size 432x432 with 1 Axes>"
      ]
     },
     "metadata": {},
     "output_type": "display_data"
    }
   ],
   "source": [
    "piedata = df.groupby(['isFlaggedFraud']).sum()\n",
    "f, axes = plt.subplots(1,1, figsize=(6,6))\n",
    "axes.set_title(\"% of fraud transaction detected\")\n",
    "piedata.plot(kind='pie',y='isFraud',ax=axes, fontsize=14,shadow=False,autopct='%1.1f%%');\n",
    "axes.set_ylabel('');\n",
    "plt.legend(loc='upper left',labels=['Not Detected','Detected'])\n",
    "plt.show()"
   ]
  },
  {
   "cell_type": "markdown",
   "metadata": {
    "id": "uNJUOj163jry"
   },
   "source": [
    "## Prepare data for modeling\n",
    "To prepare the dataset for training a few columns need to be dropped that contain either unique data ('nameOrig','nameDest') or redundant fields ('isFlaggedFraud'). The categorical field \"type\" which describes the type of transaction and is important for fraud detection needs to be one-hot encoded.\n"
   ]
  },
  {
   "cell_type": "code",
   "execution_count": 16,
   "metadata": {
    "id": "H-_ie0R73jry",
    "tags": []
   },
   "outputs": [],
   "source": [
    "df.drop(['nameOrig','nameDest','isFlaggedFraud'],axis=1,inplace=True)"
   ]
  },
  {
   "cell_type": "code",
   "execution_count": 17,
   "metadata": {
    "id": "94Ay8u443jry",
    "outputId": "cbcd9838-3d9b-4c31-8662-371c88e80568",
    "tags": []
   },
   "outputs": [
    {
     "data": {
      "text/html": [
       "<div>\n",
       "<style scoped>\n",
       "    .dataframe tbody tr th:only-of-type {\n",
       "        vertical-align: middle;\n",
       "    }\n",
       "\n",
       "    .dataframe tbody tr th {\n",
       "        vertical-align: top;\n",
       "    }\n",
       "\n",
       "    .dataframe thead th {\n",
       "        text-align: right;\n",
       "    }\n",
       "</style>\n",
       "<table border=\"1\" class=\"dataframe\">\n",
       "  <thead>\n",
       "    <tr style=\"text-align: right;\">\n",
       "      <th></th>\n",
       "      <th>step</th>\n",
       "      <th>amount</th>\n",
       "      <th>oldbalanceOrg</th>\n",
       "      <th>newbalanceOrig</th>\n",
       "      <th>oldbalanceDest</th>\n",
       "      <th>newbalanceDest</th>\n",
       "      <th>isFraud</th>\n",
       "      <th>CASH_IN</th>\n",
       "      <th>CASH_OUT</th>\n",
       "      <th>DEBIT</th>\n",
       "      <th>PAYMENT</th>\n",
       "      <th>TRANSFER</th>\n",
       "    </tr>\n",
       "  </thead>\n",
       "  <tbody>\n",
       "    <tr>\n",
       "      <th>0</th>\n",
       "      <td>1</td>\n",
       "      <td>9839.64</td>\n",
       "      <td>170136.0</td>\n",
       "      <td>160296.36</td>\n",
       "      <td>0.0</td>\n",
       "      <td>0.0</td>\n",
       "      <td>0</td>\n",
       "      <td>0</td>\n",
       "      <td>0</td>\n",
       "      <td>0</td>\n",
       "      <td>1</td>\n",
       "      <td>0</td>\n",
       "    </tr>\n",
       "    <tr>\n",
       "      <th>1</th>\n",
       "      <td>1</td>\n",
       "      <td>1864.28</td>\n",
       "      <td>21249.0</td>\n",
       "      <td>19384.72</td>\n",
       "      <td>0.0</td>\n",
       "      <td>0.0</td>\n",
       "      <td>0</td>\n",
       "      <td>0</td>\n",
       "      <td>0</td>\n",
       "      <td>0</td>\n",
       "      <td>1</td>\n",
       "      <td>0</td>\n",
       "    </tr>\n",
       "    <tr>\n",
       "      <th>2</th>\n",
       "      <td>1</td>\n",
       "      <td>181.00</td>\n",
       "      <td>181.0</td>\n",
       "      <td>0.00</td>\n",
       "      <td>0.0</td>\n",
       "      <td>0.0</td>\n",
       "      <td>1</td>\n",
       "      <td>0</td>\n",
       "      <td>0</td>\n",
       "      <td>0</td>\n",
       "      <td>0</td>\n",
       "      <td>1</td>\n",
       "    </tr>\n",
       "    <tr>\n",
       "      <th>3</th>\n",
       "      <td>1</td>\n",
       "      <td>181.00</td>\n",
       "      <td>181.0</td>\n",
       "      <td>0.00</td>\n",
       "      <td>21182.0</td>\n",
       "      <td>0.0</td>\n",
       "      <td>1</td>\n",
       "      <td>0</td>\n",
       "      <td>1</td>\n",
       "      <td>0</td>\n",
       "      <td>0</td>\n",
       "      <td>0</td>\n",
       "    </tr>\n",
       "    <tr>\n",
       "      <th>4</th>\n",
       "      <td>1</td>\n",
       "      <td>11668.14</td>\n",
       "      <td>41554.0</td>\n",
       "      <td>29885.86</td>\n",
       "      <td>0.0</td>\n",
       "      <td>0.0</td>\n",
       "      <td>0</td>\n",
       "      <td>0</td>\n",
       "      <td>0</td>\n",
       "      <td>0</td>\n",
       "      <td>1</td>\n",
       "      <td>0</td>\n",
       "    </tr>\n",
       "  </tbody>\n",
       "</table>\n",
       "</div>"
      ],
      "text/plain": [
       "   step    amount  oldbalanceOrg  newbalanceOrig  oldbalanceDest  \\\n",
       "0     1   9839.64       170136.0       160296.36             0.0   \n",
       "1     1   1864.28        21249.0        19384.72             0.0   \n",
       "2     1    181.00          181.0            0.00             0.0   \n",
       "3     1    181.00          181.0            0.00         21182.0   \n",
       "4     1  11668.14        41554.0        29885.86             0.0   \n",
       "\n",
       "   newbalanceDest  isFraud  CASH_IN  CASH_OUT  DEBIT  PAYMENT  TRANSFER  \n",
       "0             0.0        0        0         0      0        1         0  \n",
       "1             0.0        0        0         0      0        1         0  \n",
       "2             0.0        1        0         0      0        0         1  \n",
       "3             0.0        1        0         1      0        0         0  \n",
       "4             0.0        0        0         0      0        1         0  "
      ]
     },
     "execution_count": 17,
     "metadata": {},
     "output_type": "execute_result"
    }
   ],
   "source": [
    "X = pd.concat([df.drop('type', axis=1), pd.get_dummies(df['type'])], axis=1)\n",
    "X.head()"
   ]
  },
  {
   "cell_type": "markdown",
   "metadata": {
    "id": "NsAY1A6h3jry"
   },
   "source": [
    "Remove the outcome variable from the training data"
   ]
  },
  {
   "cell_type": "code",
   "execution_count": 18,
   "metadata": {
    "id": "UXJuvelw3jry",
    "tags": []
   },
   "outputs": [],
   "source": [
    "y = X[['isFraud']]\n",
    "X = X.drop(['isFraud'],axis=1)"
   ]
  },
  {
   "cell_type": "markdown",
   "metadata": {
    "id": "ChDYwa_g3jry"
   },
   "source": [
    "Split the data and assign 70% for training and 30% for testing"
   ]
  },
  {
   "cell_type": "code",
   "execution_count": 19,
   "metadata": {
    "id": "8iWOvX0H3jrz",
    "outputId": "a44f767b-2367-4cff-eec5-b465e6a03125",
    "tags": []
   },
   "outputs": [
    {
     "name": "stdout",
     "output_type": "stream",
     "text": [
      "(4453834, 11) (1908786, 11)\n"
     ]
    }
   ],
   "source": [
    "X_train, X_test, y_train, y_test = train_test_split(X, y, test_size = 0.3,random_state=42, shuffle=False)\n",
    "print (X_train.shape, X_test.shape)"
   ]
  },
  {
   "cell_type": "markdown",
   "metadata": {
    "id": "4Rp9cSeY3jrz"
   },
   "source": [
    "## Fit a Random-forest model\n",
    "\n",
    "Fit a simple Random-Forest classifier on the preprocessed train dataset."
   ]
  },
  {
   "cell_type": "markdown",
   "metadata": {},
   "source": [
    "### Set Experiment Configurations"
   ]
  },
  {
   "cell_type": "code",
   "execution_count": 21,
   "metadata": {
    "tags": []
   },
   "outputs": [],
   "source": [
    "VERSION = 'v01'\n",
    "DATASET_DISPLAY_NAME = 'synthetic-financial-fraud'\n",
    "MODEL_DISPLAY_NAME = f'{DATASET_DISPLAY_NAME}-classifier-{VERSION}'\n",
    "\n",
    "WORKSPACE = f'gs://{BUCKET_NAME}/{DATASET_DISPLAY_NAME}'\n",
    "EXPERIMENT_ARTIFACTS_DIR = os.path.join(WORKSPACE, 'experiments')\n",
    "EXPERIMENT_NAME = DATASET_DISPLAY_NAME"
   ]
  },
  {
   "cell_type": "markdown",
   "metadata": {},
   "source": [
    "### Initialize Experiment"
   ]
  },
  {
   "cell_type": "code",
   "execution_count": 22,
   "metadata": {
    "tags": []
   },
   "outputs": [],
   "source": [
    "vertex_ai.init(\n",
    "    project=Project_ID,\n",
    "    location=REGION,\n",
    "    staging_bucket=BUCKET_NAME,\n",
    "    experiment=EXPERIMENT_NAME\n",
    ")"
   ]
  },
  {
   "cell_type": "markdown",
   "metadata": {},
   "source": [
    "### Set Hyperparameters"
   ]
  },
  {
   "cell_type": "code",
   "execution_count": 27,
   "metadata": {
    "tags": []
   },
   "outputs": [],
   "source": [
    "N_ESTIMATORS = 120"
   ]
  },
  {
   "cell_type": "markdown",
   "metadata": {},
   "source": [
    "### Start Experiment Run"
   ]
  },
  {
   "cell_type": "code",
   "execution_count": 28,
   "metadata": {
    "id": "dAuuSliH3jrz",
    "outputId": "7c37e13a-05a9-494f-91fc-cd96b9710b41",
    "tags": []
   },
   "outputs": [
    {
     "name": "stdout",
     "output_type": "stream",
     "text": [
      "Associating projects/402374189238/locations/us-central1/metadataStores/default/contexts/synthetic-financial-fraud-run-local-20220824141317 to Experiment: synthetic-financial-fraud\n",
      "Experiment run directory: gs://bq-experiments-datasets/fraud/synthetic-financial-fraud/experiments/synthetic-financial-fraud/run-local-20220824141317\n"
     ]
    },
    {
     "data": {
      "text/plain": [
       "RandomForestClassifier(n_estimators=120)"
      ]
     },
     "execution_count": 28,
     "metadata": {},
     "output_type": "execute_result"
    }
   ],
   "source": [
    "# Set up experiment run\n",
    "run_id = f\"run-local-{datetime.now().strftime('%Y%m%d%H%M%S')}\"\n",
    "run = vertex_ai.start_run(run_id)\n",
    "EXPERIMENT_RUN_DIR = os.path.join(EXPERIMENT_ARTIFACTS_DIR, EXPERIMENT_NAME, run_id)\n",
    "print(\"Experiment run directory:\", EXPERIMENT_RUN_DIR)\n",
    "\n",
    "# save params to experiments\n",
    "data_params = {\"n_estimators\": N_ESTIMATORS}\n",
    "run.log_params(data_params)\n",
    "\n",
    "# Train the model\n",
    "forest=RandomForestClassifier(n_estimators=N_ESTIMATORS)\n",
    "forest.fit(X_train,y_train)"
   ]
  },
  {
   "cell_type": "markdown",
   "metadata": {
    "id": "jRd3mO7W3jrz"
   },
   "source": [
    "## Analyzing Results\n",
    "\n",
    "The model returns good scores but the confusion matrix really brings the point home that this model can indeed work with imbalanced data."
   ]
  },
  {
   "cell_type": "code",
   "execution_count": 29,
   "metadata": {
    "id": "P7LsS30y3jr0",
    "outputId": "138aa0eb-01cd-4333-8645-c69209e13d10",
    "tags": []
   },
   "outputs": [
    {
     "name": "stdout",
     "output_type": "stream",
     "text": [
      "AUPRC : 0.9301158979768602\n",
      "F1 - score : 0.8504193265740393\n",
      "Confusion_matrix : \n",
      "[[1904194      22]\n",
      " [   1173    3397]]\n",
      "classification_report\n",
      "              precision    recall  f1-score   support\n",
      "\n",
      "           0       1.00      1.00      1.00   1904216\n",
      "           1       0.99      0.74      0.85      4570\n",
      "\n",
      "    accuracy                           1.00   1908786\n",
      "   macro avg       1.00      0.87      0.93   1908786\n",
      "weighted avg       1.00      1.00      1.00   1908786\n",
      "\n"
     ]
    }
   ],
   "source": [
    "y_prob=forest.predict_proba(X_test)\n",
    "y_pred=forest.predict(X_test)\n",
    "\n",
    "precision_score = average_precision_score(y_test, y_prob[:, 1])\n",
    "print('AUPRC :', precision_score)\n",
    "\n",
    "f1 = f1_score(y_test,y_pred)\n",
    "print('F1 - score :',f1)\n",
    "\n",
    "cm = confusion_matrix(y_test,y_pred)\n",
    "print('Confusion_matrix : ')\n",
    "print(cm)\n",
    "\n",
    "cr = classification_report(y_test,y_pred)\n",
    "print(\"classification_report\")\n",
    "print(cr)\n",
    "\n",
    "# Save metrics to Experiment tracking\n",
    "run.log_metrics({\"average_precision_score\": precision_score, \n",
    "                 \"f1_score\": f1})\n",
    "run.end_run()"
   ]
  },
  {
   "cell_type": "markdown",
   "metadata": {
    "id": "fZiZuXSG3jr0"
   },
   "source": [
    "Use RandomForestClassifier feature_importances_ function to get an better understanding about which features were the most useful to the model."
   ]
  },
  {
   "cell_type": "code",
   "execution_count": 30,
   "metadata": {
    "id": "xei4g95v3jr0",
    "outputId": "2ff59e8d-27b9-4830-fbf3-2bb691018299",
    "tags": []
   },
   "outputs": [
    {
     "data": {
      "image/png": "[encoded data removed]",
      "text/plain": [
       "<Figure size 432x288 with 1 Axes>"
      ]
     },
     "metadata": {
      "needs_background": "light"
     },
     "output_type": "display_data"
    }
   ],
   "source": [
    "importances = forest.feature_importances_\n",
    "std = np.std([tree.feature_importances_ for tree in forest.estimators_], axis=0)\n",
    "forest_importances = pd.Series(importances, index=list(X_train))\n",
    "fig, ax = plt.subplots()\n",
    "forest_importances.plot.bar(yerr=std, ax=ax)\n",
    "ax.set_title(\"Feature Importance for Fraud Transaction Detection Model\")\n",
    "ax.set_ylabel(\"Importance\")\n",
    "fig.tight_layout()"
   ]
  },
  {
   "cell_type": "markdown",
   "metadata": {
    "id": "gGDPjjxo3jr1"
   },
   "source": [
    "## Save the model artifact"
   ]
  },
  {
   "cell_type": "code",
   "execution_count": 31,
   "metadata": {
    "id": "s7rEvNZn3jr1",
    "tags": []
   },
   "outputs": [],
   "source": [
    "# Save local PICKLE file\n",
    "FILE_NAME = 'model.pkl'\n",
    "pickle.dump(forest, open(FILE_NAME, 'wb'))\n",
    "\n",
    "# Upload model artifact to Cloud Storage\n",
    "AIP_BUCKET = 'bq-experiments-models'\n",
    "BLOB_PATH = AIP_BUCKET+\"/models/\"\n",
    "ARTIFACT_GCS_PATH = f'gs://{BLOB_PATH}'\n",
    "storage_path = os.path.join(ARTIFACT_GCS_PATH, FILE_NAME)\n",
    "blob = storage.blob.Blob.from_string(storage_path, client=storage.Client())\n",
    "blob.upload_from_filename(FILE_NAME)"
   ]
  },
  {
   "cell_type": "markdown",
   "metadata": {},
   "source": [
    "## Add Model to Registry"
   ]
  },
  {
   "cell_type": "code",
   "execution_count": 38,
   "metadata": {
    "tags": []
   },
   "outputs": [
    {
     "name": "stdout",
     "output_type": "stream",
     "text": [
      "Using endpoint [https://us-central1-aiplatform.googleapis.com/]\n",
      "Waiting for operation [2403167724055298048]...done.                            \n"
     ]
    }
   ],
   "source": [
    "# Add model to model registry\n",
    "!gcloud ai models upload \\\n",
    "  --region=us-central1 \\\n",
    "  --display-name=financial-fraud-synthetic \\\n",
    "  --container-image-uri=us-docker.pkg.dev/vertex-ai/prediction/sklearn-cpu.0-24:latest \\\n",
    "  --artifact-uri=gs://bq-experiments-models/models/ \\\n",
    "  --description='synthetic financial fraud model' \\\n",
    "  --version-aliases='v01'"
   ]
  },
  {
   "cell_type": "markdown",
   "metadata": {},
   "source": [
    "## Create an Endpoint"
   ]
  },
  {
   "cell_type": "code",
   "execution_count": 39,
   "metadata": {},
   "outputs": [
    {
     "name": "stdout",
     "output_type": "stream",
     "text": [
      "Using endpoint [https://us-central1-aiplatform.googleapis.com/]\n",
      "Waiting for operation [6919152250401062912]...done.                            \n",
      "Created Vertex AI endpoint: projects/402374189238/locations/us-central1/endpoints/6341200216732991488.\n"
     ]
    }
   ],
   "source": [
    "!gcloud ai endpoints create \\\n",
    "  --region=us-central1 \\\n",
    "  --display-name=financial-fraud-ep1"
   ]
  },
  {
   "cell_type": "markdown",
   "metadata": {},
   "source": [
    "## Deploy the Model"
   ]
  },
  {
   "cell_type": "code",
   "execution_count": null,
   "metadata": {},
   "outputs": [],
   "source": [
    "!gcloud ai endpoints deploy-model 7040172952649728000 \\\n",
    "  --region=us-central1 \\\n",
    "  --model=6254492729766576128 \\\n",
    "  --display-name=financial-fraud-synthetic \\\n",
    "  --machine-type=n1-standard-4 \\\n",
    "  --min-replica-count=1 \\\n",
    "  --max-replica-count=1 \\\n",
    "  --traffic-split=0=100"
   ]
  },
  {
   "cell_type": "code",
   "execution_count": null,
   "metadata": {},
   "outputs": [],
   "source": []
  }
 ],
 "metadata": {
  "colab": {
   "collapsed_sections": [
    "Nc7uEjJk3jrr",
    "BJpj8TfX3jrs",
    "pyPZ5SRd3jr4",
    "eWqE9tIk3jr5",
    "UthF-Ro13jr5"
   ],
   "name": "Fraud Transaction Detection notebook.ipynb",
   "provenance": []
  },
  "environment": {
   "kernel": "python3",
   "name": "tf2-cpu.2-9.m95",
   "type": "gcloud",
   "uri": "gcr.io/deeplearning-platform-release/tf2-cpu.2-9:m95"
  },
  "kernelspec": {
   "display_name": "TensorFlow 2 (Local)",
   "language": "python",
   "name": "local-tf2"
  },
  "language_info": {
   "codemirror_mode": {
    "name": "ipython",
    "version": 3
   },
   "file_extension": ".py",
   "mimetype": "text/x-python",
   "name": "python",
   "nbconvert_exporter": "python",
   "pygments_lexer": "ipython3",
   "version": "3.7.12"
  }
 },
 "nbformat": 4,
 "nbformat_minor": 4
}
